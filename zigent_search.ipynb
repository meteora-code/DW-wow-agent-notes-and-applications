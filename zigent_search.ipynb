{
 "cells": [
  {
   "cell_type": "code",
   "execution_count": 1,
   "metadata": {},
   "outputs": [
    {
     "name": "stdout",
     "output_type": "stream",
     "text": [
      "Looking in indexes: https://mirrors.aliyun.com/pypi/simple/Note: you may need to restart the kernel to use updated packages.\n",
      "\n",
      "Requirement already satisfied: duckduckgo_search in c:\\users\\86185\\.conda\\envs\\myenv1\\lib\\site-packages (7.1.1)\n",
      "Requirement already satisfied: click>=8.1.7 in c:\\users\\86185\\.conda\\envs\\myenv1\\lib\\site-packages (from duckduckgo_search) (8.1.7)\n",
      "Requirement already satisfied: primp>=0.9.2 in c:\\users\\86185\\.conda\\envs\\myenv1\\lib\\site-packages (from duckduckgo_search) (0.10.1)\n",
      "Requirement already satisfied: lxml>=5.3.0 in c:\\users\\86185\\.conda\\envs\\myenv1\\lib\\site-packages (from duckduckgo_search) (5.3.0)\n",
      "Requirement already satisfied: colorama in c:\\users\\86185\\.conda\\envs\\myenv1\\lib\\site-packages (from click>=8.1.7->duckduckgo_search) (0.4.6)\n"
     ]
    }
   ],
   "source": [
    "%pip install duckduckgo_search\n"
   ]
  },
  {
   "cell_type": "code",
   "execution_count": 21,
   "metadata": {},
   "outputs": [],
   "source": [
    "from config import *\n",
    "from typing import List\n",
    "from zigent.agents import ABCAgent, BaseAgent\n",
    "from zigent.llm.agent_llms import LLM\n",
    "from zigent.commons import TaskPackage\n",
    "from zigent.actions.BaseAction import BaseAction\n",
    "from zigent.logging.multi_agent_log import AgentLogger\n",
    "from duckduckgo_search import DDGS"
   ]
  },
  {
   "cell_type": "code",
   "execution_count": 22,
   "metadata": {},
   "outputs": [
    {
     "name": "stdout",
     "output_type": "stream",
     "text": [
      "2023年中国国际智能产业博览会的主题是“智能化：为经济赋能，为生活添彩”。这个主题旨在强调智能化技术在推动经济发展和提升人民生活水平方面的关键作用。\n"
     ]
    }
   ],
   "source": [
    "llm = LLM(api_key=api_key, base_url=base_url, model_name=chat_model)\n",
    "response = llm.run(\"2023 中国国际智能产业博览会主题为\")\n",
    "print(response)"
   ]
  },
  {
   "cell_type": "code",
   "execution_count": 4,
   "metadata": {},
   "outputs": [],
   "source": [
    "class DuckSearchAction(BaseAction):\n",
    "    def __init__(self) -> None:\n",
    "        action_name = \"DuckDuckGo_Search\"\n",
    "        action_desc = \"Using this action to search online content.\"\n",
    "        params_doc = {\"query\": \"the search string. be simple.\"}\n",
    "        self.ddgs = DDGS()\n",
    "        super().__init__(\n",
    "            action_name=action_name, \n",
    "            action_desc=action_desc, \n",
    "            params_doc=params_doc,\n",
    "        )\n",
    "\n",
    "    def __call__(self, query):\n",
    "        results = self.ddgs.chat(query)\n",
    "        return results"
   ]
  },
  {
   "cell_type": "code",
   "execution_count": 6,
   "metadata": {},
   "outputs": [
    {
     "name": "stdout",
     "output_type": "stream",
     "text": [
      "“Agent”这个词在不同的领域有不同的含义。以下是一些常见的解释：\n",
      "\n",
      "1. **一般意义**：在日常用语中，agent指的是一个代理人或代表，负责代表他人进行某种活动或决策。\n",
      "\n",
      "2. **计算机科学**：在人工智能和计算机科学中，agent通常指的是一种能够自主执行任务的程序或系统。例如，智能代理（intelligent agent）可以根据环境的变化做出决策。\n",
      "\n",
      "3. **商业**：在商业领域，agent可以指代中介或代理商，他们代表公司或个人进行交易或谈判。\n",
      "\n",
      "4. **生物学**：在生物学中，agent可以指代某种能够引起生物反应的物质，如病原体或药物。\n",
      "\n",
      "5. **法律**：在法律上，agent是指被授权代表他人行事的人，通常涉及合同或法律事务。\n",
      "\n",
      "具体的含义取决于上下文。如果你有特定的领域或上下文，请告诉我，我可以提供更详细的信息。\n"
     ]
    }
   ],
   "source": [
    "search_action = DuckSearchAction()\n",
    "results = search_action(\"什么是 agent\")\n",
    "print(results)"
   ]
  },
  {
   "cell_type": "code",
   "execution_count": 7,
   "metadata": {},
   "outputs": [],
   "source": [
    "class DuckSearchAgent(BaseAgent):\n",
    "    def __init__(\n",
    "        self,\n",
    "        llm: LLM,\n",
    "        actions: List[BaseAction] = [DuckSearchAction()],\n",
    "        manager: ABCAgent = None,\n",
    "        **kwargs\n",
    "    ):\n",
    "        name = \"duck_search_agent\"\n",
    "        role = \"You can answer questions by using duck duck go search content.\"\n",
    "        super().__init__(\n",
    "            name=name,\n",
    "            role=role,\n",
    "            llm=llm,\n",
    "            actions=actions,\n",
    "            manager=manager\n",
    "        )"
   ]
  },
  {
   "cell_type": "code",
   "execution_count": 17,
   "metadata": {},
   "outputs": [
    {
     "name": "stdout",
     "output_type": "stream",
     "text": [
      "Agent \u001b[94mduck_search_agent\u001b[0m receives the following \u001b[4mTaskPackage\u001b[0m:\n",
      "\u001b[96m[\n",
      "\tTask ID: 7668636c-0cf3-481a-9f3a-eba8d1b7d027\n",
      "\tInstruction: 2024诺贝尔奖得主\n",
      "]\u001b[0m\n",
      "====\u001b[94mduck_search_agent\u001b[0m starts execution on TaskPackage 7668636c-0cf3-481a-9f3a-eba8d1b7d027====\n",
      "Agent \u001b[94mduck_search_agent\u001b[0m takes 0-step \u001b[4mAction\u001b[0m:\n",
      "\u001b[94m{\n",
      "\tname: DuckDuckGo_Search\n",
      "\tparams: {'query': '2024诺贝尔奖得主'}\n",
      "}\u001b[0m\n",
      "Observation: \u001b[92m截至我最后的知识更新（2023年10月），2024年诺贝尔奖的得主尚未公布。诺贝尔奖通常在每年的10月宣布，涵盖多个领域，包括物理、化学、医学、文学、和平和经济学。如果你想了解过去的诺贝尔奖得主或相关[TLDR]\u001b[0m\n",
      "Agent \u001b[94mduck_search_agent\u001b[0m takes 1-step \u001b[4mAction\u001b[0m:\n",
      "\u001b[94m{\n",
      "\tname: Finish\n",
      "\tparams: {'response': '根据我最后的知识更新，2024年诺贝尔奖的得主尚未公布。诺贝尔奖通常在每年的10月宣布，涵盖多个领域。如果你需要了解过去诺贝尔奖得主的信息，我可以帮你查询。'}\n",
      "}\u001b[0m\n",
      "Observation: \u001b[92mTask Completed.\u001b[0m\n",
      "=========\u001b[94mduck_search_agent\u001b[0m finish execution. TaskPackage[ID:7668636c-0cf3-481a-9f3a-eba8d1b7d027] status:\n",
      "\u001b[96m[\n",
      "\tcompletion: completed\n",
      "\tanswer: 根据我最后的知识更新，2024年诺贝尔奖的得主尚未公布。诺贝尔奖通常在每年的10月宣布，涵盖多个领域。如果你需要了解过去诺贝尔奖得主的信息，我可以帮你查询。\n",
      "]\u001b[0m\n",
      "==========\n",
      "response: 根据我最后的知识更新，2024年诺贝尔奖的得主尚未公布。诺贝尔奖通常在每年的10月宣布，涵盖多个领域。如果你需要了解过去诺贝尔奖得主的信息，我可以帮你查询。\n"
     ]
    }
   ],
   "source": [
    "def do_search_agent():\n",
    "    # 创建代理实例\n",
    "    search_agent = DuckSearchAgent(llm=llm)\n",
    "\n",
    "    # 创建任务\n",
    "    task = \"2024诺贝尔奖得主\"\n",
    "    task_pack = TaskPackage(instruction=task)\n",
    "\n",
    "    # 执行任务并获取响应\n",
    "    response = search_agent(task_pack)\n",
    "    print(\"response:\", response)\n",
    "\n",
    "if __name__ == \"__main__\":\n",
    "    do_search_agent()"
   ]
  },
  {
   "cell_type": "markdown",
   "metadata": {},
   "source": [
    "这种方法查不了新闻吗"
   ]
  },
  {
   "cell_type": "code",
   "execution_count": 18,
   "metadata": {},
   "outputs": [
    {
     "name": "stdout",
     "output_type": "stream",
     "text": [
      "Looking in indexes: https://mirrors.aliyun.com/pypi/simple/\n",
      "Requirement already satisfied: zhipuai in c:\\users\\86185\\.conda\\envs\\myenv1\\lib\\site-packages (2.1.5.20250106)\n",
      "Requirement already satisfied: cachetools>=4.2.2 in c:\\users\\86185\\.conda\\envs\\myenv1\\lib\\site-packages (from zhipuai) (5.5.0)\n",
      "Requirement already satisfied: httpx>=0.23.0 in c:\\users\\86185\\.conda\\envs\\myenv1\\lib\\site-packages (from zhipuai) (0.27.0)\n",
      "Requirement already satisfied: pydantic<3.0,>=1.9.0 in c:\\users\\86185\\.conda\\envs\\myenv1\\lib\\site-packages (from zhipuai) (2.10.4)\n",
      "Requirement already satisfied: pydantic-core>=2.14.6 in c:\\users\\86185\\.conda\\envs\\myenv1\\lib\\site-packages (from zhipuai) (2.27.2)\n",
      "Requirement already satisfied: pyjwt<2.9.0,>=2.8.0 in c:\\users\\86185\\.conda\\envs\\myenv1\\lib\\site-packages (from zhipuai) (2.8.0)\n",
      "Requirement already satisfied: anyio in c:\\users\\86185\\.conda\\envs\\myenv1\\lib\\site-packages (from httpx>=0.23.0->zhipuai) (4.2.0)\n",
      "Requirement already satisfied: certifi in c:\\users\\86185\\.conda\\envs\\myenv1\\lib\\site-packages (from httpx>=0.23.0->zhipuai) (2024.8.30)\n",
      "Requirement already satisfied: httpcore==1.* in c:\\users\\86185\\.conda\\envs\\myenv1\\lib\\site-packages (from httpx>=0.23.0->zhipuai) (1.0.2)\n",
      "Requirement already satisfied: idna in c:\\users\\86185\\.conda\\envs\\myenv1\\lib\\site-packages (from httpx>=0.23.0->zhipuai) (3.7)\n",
      "Requirement already satisfied: sniffio in c:\\users\\86185\\.conda\\envs\\myenv1\\lib\\site-packages (from httpx>=0.23.0->zhipuai) (1.3.0)\n",
      "Requirement already satisfied: h11<0.15,>=0.13 in c:\\users\\86185\\.conda\\envs\\myenv1\\lib\\site-packages (from httpcore==1.*->httpx>=0.23.0->zhipuai) (0.14.0)\n",
      "Requirement already satisfied: annotated-types>=0.6.0 in c:\\users\\86185\\.conda\\envs\\myenv1\\lib\\site-packages (from pydantic<3.0,>=1.9.0->zhipuai) (0.6.0)\n",
      "Requirement already satisfied: typing-extensions>=4.12.2 in c:\\users\\86185\\.conda\\envs\\myenv1\\lib\\site-packages (from pydantic<3.0,>=1.9.0->zhipuai) (4.12.2)\n",
      "Note: you may need to restart the kernel to use updated packages.\n"
     ]
    }
   ],
   "source": [
    "%pip install --upgrade zhipuai"
   ]
  },
  {
   "cell_type": "code",
   "execution_count": 23,
   "metadata": {},
   "outputs": [],
   "source": [
    "import os\n",
    "import json\n",
    "import requests\n",
    "from dotenv import load_dotenv\n",
    "from typing import List\n",
    "from zigent.agents import BaseAgent, ABCAgent\n",
    "from zigent.llm.agent_llms import LLM\n",
    "from zigent.commons import TaskPackage\n",
    "from zigent.actions.BaseAction import BaseAction\n",
    "from zhipuai import ZhipuAI\n",
    "from datetime import datetime\n",
    "\n",
    "ZHIPU_API_KEY = os.getenv('API_KEY')\n",
    "\n",
    "# 配置LLM\n",
    "llm = LLM(api_key=api_key, base_url=base_url, model_name=chat_model)"
   ]
  },
  {
   "cell_type": "code",
   "execution_count": 24,
   "metadata": {},
   "outputs": [],
   "source": [
    "# 定义Zhipu Web Search工具\n",
    "def zhipu_web_search_tool(query: str) -> str:\n",
    "    \"\"\"\n",
    "    使用智谱AI的GLM-4模型进行联网搜索，返回搜索结果的字符串。\n",
    "    \n",
    "    参数:\n",
    "    - query: 搜索关键词\n",
    "\n",
    "    返回:\n",
    "    - 搜索结果的字符串形式\n",
    "    \"\"\"\n",
    "    # 初始化客户端\n",
    "    client = ZhipuAI(api_key=ZHIPU_API_KEY)\n",
    "\n",
    "    # 获取当前日期\n",
    "    current_date = datetime.now().strftime(\"%Y-%m-%d\")\n",
    "\n",
    "    print(\"current_date:\", current_date)\n",
    "    \n",
    "    # 设置工具\n",
    "    tools = [{\n",
    "        \"type\": \"web_search\",\n",
    "        \"web_search\": {\n",
    "            \"enable\": True\n",
    "        }\n",
    "    }]\n",
    "\n",
    "    # 系统提示模板，包含时间信息\n",
    "    system_prompt = f\"\"\"你是一个具备网络访问能力的智能助手，在适当情况下，优先使用网络信息（参考信息）来回答，\n",
    "    以确保用户得到最新、准确的帮助。当前日期是 {current_date}。\"\"\"\n",
    "        \n",
    "    # 构建消息\n",
    "    messages = [\n",
    "        {\"role\": \"system\", \"content\": system_prompt},\n",
    "        {\"role\": \"user\", \"content\": query}\n",
    "    ]\n",
    "        \n",
    "    # 调用API\n",
    "    response = client.chat.completions.create(\n",
    "        model=\"glm-4-flash\",\n",
    "        messages=messages,\n",
    "        tools=tools\n",
    "    )\n",
    "    \n",
    "    # 返回结果\n",
    "    return response.choices[0].message.content"
   ]
  },
  {
   "cell_type": "code",
   "execution_count": 25,
   "metadata": {},
   "outputs": [],
   "source": [
    "class ZhipuSearchAction(BaseAction):\n",
    "    def __init__(self) -> None:\n",
    "        action_name = \"Zhipu_Search\"\n",
    "        action_desc = \"Using this action to search online content.\"\n",
    "        params_doc = {\"query\": \"the search string. be simple.\"}\n",
    "        super().__init__(\n",
    "            action_name=action_name,\n",
    "            action_desc=action_desc,\n",
    "            params_doc=params_doc,\n",
    "        )\n",
    "\n",
    "    def __call__(self, query):\n",
    "        results = zhipu_web_search_tool(query)\n",
    "        return results"
   ]
  },
  {
   "cell_type": "code",
   "execution_count": 27,
   "metadata": {},
   "outputs": [],
   "source": [
    "class ZhipuSearchAgent(BaseAgent):\n",
    "    def __init__(\n",
    "        self,\n",
    "        llm: LLM,\n",
    "        actions: List[BaseAction] = [ZhipuSearchAction()],\n",
    "        manager: ABCAgent = None,\n",
    "        **kwargs\n",
    "    ):\n",
    "        name = \"zhiu_search_agent\"\n",
    "        role = \"You can answer questions by using Zhipu search content.\"\n",
    "        super().__init__(\n",
    "            name=name,\n",
    "            role=role,\n",
    "            llm=llm,\n",
    "            actions=actions,\n",
    "            manager=manager,\n",
    "        )\n"
   ]
  },
  {
   "cell_type": "code",
   "execution_count": 29,
   "metadata": {},
   "outputs": [
    {
     "name": "stdout",
     "output_type": "stream",
     "text": [
      "Agent \u001b[94mzhiu_search_agent\u001b[0m receives the following \u001b[4mTaskPackage\u001b[0m:\n",
      "\u001b[96m[\n",
      "\tTask ID: 7668636c-0cf3-481a-9f3a-eba8d1b7d027\n",
      "\tInstruction: 2024诺贝尔奖得主\n",
      "]\u001b[0m\n",
      "====\u001b[94mzhiu_search_agent\u001b[0m starts execution on TaskPackage 7668636c-0cf3-481a-9f3a-eba8d1b7d027====\n",
      "Agent \u001b[94mzhiu_search_agent\u001b[0m takes 0-step \u001b[4mAction\u001b[0m:\n",
      "\u001b[94m{\n",
      "\tname: Zhipu_Search\n",
      "\tparams: {'query': '2024诺贝尔奖得主'}\n",
      "}\u001b[0m\n",
      "current_date: 2025-01-19\n",
      "Observation: \u001b[92m2024年诺贝尔奖的获奖者如下：\n",
      "\n",
      "1. **生理学或医学奖**：美国科学家维克托·安布罗（Victor Ambros）和加里·鲁夫坎（Gary Ruvkun）获奖，以表彰他们发现微小RNA（micr[TLDR]\u001b[0m\n",
      "Agent \u001b[94mzhiu_search_agent\u001b[0m takes 1-step \u001b[4mAction\u001b[0m:\n",
      "\u001b[94m{\n",
      "\tname: Finish\n",
      "\tparams: {'response': '2024年诺贝尔奖的获奖者包括在生理学或医学、物理学、化学、文学、和平以及经济学等多个领域的杰出科学家和作家。具体获奖者名单已在上述内容中列出。'}\n",
      "}\u001b[0m\n",
      "Observation: \u001b[92mTask Completed.\u001b[0m\n",
      "=========\u001b[94mzhiu_search_agent\u001b[0m finish execution. TaskPackage[ID:7668636c-0cf3-481a-9f3a-eba8d1b7d027] status:\n",
      "\u001b[96m[\n",
      "\tcompletion: completed\n",
      "\tanswer: 2024年诺贝尔奖的获奖者包括在生理学或医学、物理学、化学、文学、和平以及经济学等多个领域的杰出科学家和作家。具体获奖者名单已在上述内容中列出。\n",
      "]\u001b[0m\n",
      "==========\n",
      "2024年诺贝尔奖的获奖者包括在生理学或医学、物理学、化学、文学、和平以及经济学等多个领域的杰出科学家和作家。具体获奖者名单已在上述内容中列出。\n"
     ]
    }
   ],
   "source": [
    "def do_search_agent():\n",
    "    # 创建代理实例\n",
    "    search_agent = ZhipuSearchAgent(llm=llm)\n",
    "\n",
    "    # 创建任务\n",
    "    task = \"2024诺贝尔奖得主\"\n",
    "    task_pack = TaskPackage(instruction=task)\n",
    "\n",
    "    # 执行任务并获取响应\n",
    "    response = search_agent(task_pack)\n",
    "    print(response)\n",
    "\n",
    "if __name__ == \"__main__\":\n",
    "    do_search_agent()"
   ]
  },
  {
   "cell_type": "markdown",
   "metadata": {},
   "source": [
    "还是智谱好用"
   ]
  }
 ],
 "metadata": {
  "kernelspec": {
   "display_name": "myenv1",
   "language": "python",
   "name": "python3"
  },
  "language_info": {
   "codemirror_mode": {
    "name": "ipython",
    "version": 3
   },
   "file_extension": ".py",
   "mimetype": "text/x-python",
   "name": "python",
   "nbconvert_exporter": "python",
   "pygments_lexer": "ipython3",
   "version": "3.12.5"
  }
 },
 "nbformat": 4,
 "nbformat_minor": 2
}
